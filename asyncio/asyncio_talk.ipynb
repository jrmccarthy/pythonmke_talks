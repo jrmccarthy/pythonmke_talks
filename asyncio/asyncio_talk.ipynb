{
 "metadata": {
  "name": ""
 },
 "nbformat": 3,
 "nbformat_minor": 0,
 "worksheets": [
  {
   "cells": [
    {
     "cell_type": "markdown",
     "metadata": {
      "slideshow": {
       "slide_type": "slide"
      }
     },
     "source": [
      "Yield From and **asyncio** in Python3.4\n",
      "=======================================\n",
      "\n",
      "<br/><br/><br/><br/><br/><br/><br/>\n",
      "\n",
      "\n",
      "\n"
     ]
    },
    {
     "cell_type": "markdown",
     "metadata": {},
     "source": [
      "Jimmy McCarthy\n",
      "--------------\n",
      "Developer, Corvisa"
     ]
    },
    {
     "cell_type": "markdown",
     "metadata": {
      "slideshow": {
       "slide_type": "slide"
      }
     },
     "source": [
      "A quick refresher\n",
      "=================\n",
      "\n",
      "This is what we had to do in python2.7 to move our generators into separate functions"
     ]
    },
    {
     "cell_type": "code",
     "collapsed": false,
     "input": [
      "def gen1():\n",
      "    for item in range(4):\n",
      "        yield item\n",
      "\n",
      "def gen2():\n",
      "    for item in range(4, 8):\n",
      "        yield item\n",
      "        \n",
      "def gen3():\n",
      "    for i in gen1():\n",
      "        yield i\n",
      "    for j in gen2():\n",
      "        yield j\n",
      "\n",
      "for item in gen3():\n",
      "    print(item)"
     ],
     "language": "python",
     "metadata": {},
     "outputs": [
      {
       "output_type": "stream",
       "stream": "stdout",
       "text": [
        "0\n",
        "1\n",
        "2\n",
        "3\n",
        "4\n",
        "5\n",
        "6\n",
        "7\n"
       ]
      }
     ],
     "prompt_number": 1
    },
    {
     "cell_type": "markdown",
     "metadata": {
      "slideshow": {
       "slide_type": "slide"
      }
     },
     "source": [
      "yield from\n",
      "=========="
     ]
    },
    {
     "cell_type": "markdown",
     "metadata": {},
     "source": [
      "Now, instead of having to iterate over any subgenerators (and losing our ability to use *send()*, *throw()*, and *close()* without writing a bunch of extra code), we can just use **yield from** and treat generators like we treat regular functions"
     ]
    },
    {
     "cell_type": "code",
     "collapsed": false,
     "input": [
      "def gen1():\n",
      "    for x in range(4):\n",
      "        yield x\n",
      "\n",
      "def gen2():\n",
      "    for item in range(4, 8):\n",
      "        yield item\n",
      "\n",
      "def better_gen():\n",
      "    yield from gen1()\n",
      "    yield from gen2()\n",
      "\n",
      "for item in better_gen():\n",
      "    print(item)"
     ],
     "language": "python",
     "metadata": {},
     "outputs": [
      {
       "output_type": "stream",
       "stream": "stdout",
       "text": [
        "0\n",
        "1\n",
        "2\n",
        "3\n",
        "4\n",
        "5\n",
        "6\n",
        "7\n"
       ]
      }
     ],
     "prompt_number": 1
    },
    {
     "cell_type": "markdown",
     "metadata": {
      "slideshow": {
       "slide_type": "slide"
      }
     },
     "source": [
      "Recursion\n",
      "=========\n",
      "\n",
      "Yield from also makes using recursive generators much easier (say, for yielding a tree structure)"
     ]
    },
    {
     "cell_type": "code",
     "collapsed": false,
     "input": [
      "\n",
      "def tree_traverser(node):\n",
      "    if not node.children:\n",
      "        yield node\n",
      "    for child in node.children:\n",
      "        yield from tree_traverser(child)"
     ],
     "language": "python",
     "metadata": {},
     "outputs": [],
     "prompt_number": "*"
    },
    {
     "cell_type": "markdown",
     "metadata": {
      "slideshow": {
       "slide_type": "slide"
      }
     },
     "source": [
      "An aside: Python threads and the GIL\n",
      "===================================="
     ]
    },
    {
     "cell_type": "markdown",
     "metadata": {},
     "source": [
      "The default python interpretation is not thread safe. The solution to this is the GIL (Global Interpreter Lock): Only one python thread can execute at a time. This means python's threading support has historically been pretty bad, especially compared to a langauge designed for it (like Java).\n",
      "\n",
      "The biggest disadvantage here is that your fancy 8-core processor can't run multiple native python threads at the same time, so its very hard to take advantage of that architecture.\n",
      "\n",
      "\\*The GIL is specific to CPython, the default implementation. Jython and IronPython, for example, have no such thing"
     ]
    },
    {
     "cell_type": "markdown",
     "metadata": {
      "slideshow": {
       "slide_type": "slide"
      }
     },
     "source": [
      "The new asyncio module\n",
      "======================"
     ]
    },
    {
     "cell_type": "markdown",
     "metadata": {
      "slideshow": {
       "slide_type": "-"
      }
     },
     "source": [
      "What we're gonna talk about\n",
      "---------------------------\n",
      "* Event loops\n",
      "* Coroutines\n",
      "* Futures\n",
      "* Tasks\n",
      "\n",
      "Other stuff in asyncio\n",
      "----------------------\n",
      "* Transports and Protocols (low level stuff)\n",
      "* Streams\n",
      "* Subprocess (calling OS functions)\n",
      "* Locks, Semaphores, and Queues (basic concurrency primitives)\n",
      "\n"
     ]
    },
    {
     "cell_type": "markdown",
     "metadata": {
      "slideshow": {
       "slide_type": "slide"
      }
     },
     "source": [
      "Event Loops\n",
      "===========\n",
      "\n",
      "Event loops are a pretty common construct in programming, especially in things like games. Basically, its just a loop that runs for a set amount of time (or forever) and keeps track of everything else that is going on."
     ]
    },
    {
     "cell_type": "code",
     "collapsed": false,
     "input": [
      "\n",
      "import asyncio\n",
      "\n",
      "def hello_world(loop):\n",
      "    print('Hello World')\n",
      "    # loop.stop() kills the event loop\n",
      "    loop.stop()\n",
      "\n",
      "# The main way to create an eventloop is get_event_loop()\n",
      "loop = asyncio.get_event_loop()\n",
      "# call_soon() will schedule a function to be called as soon as possible\n",
      "loop.call_soon(hello_world, loop)\n",
      "# run_forever() tells our loop to run until we call stop() or kill the program\n",
      "loop.run_forever()\n"
     ],
     "language": "python",
     "metadata": {},
     "outputs": [
      {
       "output_type": "stream",
       "stream": "stdout",
       "text": [
        "Hello World\n"
       ]
      }
     ],
     "prompt_number": 1
    },
    {
     "cell_type": "markdown",
     "metadata": {
      "slideshow": {
       "slide_type": "slide"
      }
     },
     "source": [
      "Event Loops (cont)\n",
      "=================="
     ]
    },
    {
     "cell_type": "code",
     "collapsed": false,
     "input": [
      "import asyncio\n",
      "\n",
      "def delayed_call(loop):\n",
      "    print('This took 2 seconds to happen')\n",
      "    loop.stop()\n",
      "\n",
      "loop = asyncio.get_event_loop()\n",
      "loop.call_later(2, delayed_call, loop)\n",
      "loop.run_forever()"
     ],
     "language": "python",
     "metadata": {},
     "outputs": [
      {
       "output_type": "stream",
       "stream": "stdout",
       "text": [
        "This took 2 seconds to happen\n"
       ]
      }
     ],
     "prompt_number": 1
    },
    {
     "cell_type": "markdown",
     "metadata": {
      "slideshow": {
       "slide_type": "slide"
      }
     },
     "source": [
      "Coroutines\n",
      "==========\n",
      "\n",
      "A coroutine is basically just a generator, but should be wrapped in the **@asyncio.coroutine** decorator"
     ]
    },
    {
     "cell_type": "code",
     "collapsed": false,
     "input": [
      "import asyncio\n",
      "\n",
      "@asyncio.coroutine\n",
      "def coro():\n",
      "    for x in range(4):\n",
      "        print('This is a coro!')\n",
      "        yield\n",
      "\n",
      "loop = asyncio.get_event_loop()\n",
      "# run_until_complete() will run the event loop until the specified coroutine or future finishes\n",
      "loop.run_until_complete(coro())"
     ],
     "language": "python",
     "metadata": {},
     "outputs": [
      {
       "output_type": "stream",
       "stream": "stdout",
       "text": [
        "This is a coro!\n",
        "This is a coro!\n",
        "This is a coro!\n",
        "This is a coro!\n"
       ]
      }
     ],
     "prompt_number": 1
    },
    {
     "cell_type": "markdown",
     "metadata": {
      "slideshow": {
       "slide_type": "slide"
      }
     },
     "source": [
      "Coroutines (cont)\n",
      "=================\n",
      "\n",
      "In addition to behaving like an normal generator, a coroutine can also *yield from* another coroutine, or from a future"
     ]
    },
    {
     "cell_type": "code",
     "collapsed": false,
     "input": [
      "import asyncio\n",
      "\n",
      "@asyncio.coroutine\n",
      "def compute(x, y):\n",
      "    print(\"Compute %s + %s ...\" % (x, y))\n",
      "    yield from asyncio.sleep(1.0)\n",
      "    return x + y\n",
      "\n",
      "@asyncio.coroutine\n",
      "def print_sum(x, y):\n",
      "    result = yield from compute(x, y)\n",
      "    print(\"%s + %s = %s\" % (x, y, result))\n",
      "\n",
      "loop = asyncio.get_event_loop()\n",
      "loop.run_until_complete(print_sum(1, 2))\n",
      "loop.close()\n",
      "    "
     ],
     "language": "python",
     "metadata": {},
     "outputs": [
      {
       "output_type": "stream",
       "stream": "stdout",
       "text": [
        "Compute 1 + 2 ...\n",
        "1 + 2 = 3"
       ]
      },
      {
       "output_type": "stream",
       "stream": "stdout",
       "text": [
        "\n"
       ]
      }
     ],
     "prompt_number": 1
    },
    {
     "cell_type": "markdown",
     "metadata": {},
     "source": [
      "Source: http://docs.python.org/3.4/library/asyncio-task.html#example-chain-coroutines"
     ]
    },
    {
     "cell_type": "code",
     "collapsed": false,
     "input": [
      "from IPython.display import Image\n",
      "Image(filename='tulip_coro.png')"
     ],
     "language": "python",
     "metadata": {
      "slideshow": {
       "slide_type": "slide"
      }
     },
     "outputs": [
      {
       "metadata": {},
       "output_type": "pyout",
       "png": "[encoded data removed]",
       "prompt_number": 2,
       "text": [
        "<IPython.core.display.Image at 0x7f85dc7b5c50>"
       ]
      }
     ],
     "prompt_number": 2
    },
    {
     "cell_type": "markdown",
     "metadata": {},
     "source": [
      "Source: http://docs.python.org/3.4/library/asyncio-task.html#example-chain-coroutines"
     ]
    },
    {
     "cell_type": "markdown",
     "metadata": {
      "slideshow": {
       "slide_type": "slide"
      }
     },
     "source": [
      "Futures\n",
      "=======\n",
      "\n",
      "If you're a C# developer and are familiar with __async__/__await__, or a javascript dev who has used __\\$.deferred__ and __\\$.when__, this whole thing should look pretty similar"
     ]
    },
    {
     "cell_type": "code",
     "collapsed": false,
     "input": [
      "import asyncio\n",
      "\n",
      "def set_future(future):\n",
      "    yield from asyncio.sleep(1)\n",
      "    future.set_result('Done!')\n",
      "\n",
      "loop = asyncio.get_event_loop()\n",
      "# We will just manually make one, but there are other ways to get these.\n",
      "# For example, calling asyncio.async(coroutine()) will return a Task, which is a child of Future\n",
      "future = asyncio.Future()\n",
      "asyncio.Task(set_future(future))\n",
      "loop.run_until_complete(future)\n",
      "print(future.result())\n",
      "loop.close()\n"
     ],
     "language": "python",
     "metadata": {},
     "outputs": [
      {
       "output_type": "stream",
       "stream": "stdout",
       "text": [
        "Done!\n"
       ]
      }
     ],
     "prompt_number": 1
    },
    {
     "cell_type": "markdown",
     "metadata": {},
     "source": [
      "__Future__ objects are just callables with deferred execution"
     ]
    },
    {
     "cell_type": "markdown",
     "metadata": {
      "slideshow": {
       "slide_type": "slide"
      }
     },
     "source": [
      "Futures (cont)\n",
      "==============\n",
      "\n",
      "Futures have a number of commands (refer to the asyncio docs for exact signatures and usage). Some useful ones:\n",
      "\n",
      "* __result()__ : This is how you get the value of the deferred calculation (or the exception it threw)\n",
      "* __done()__ : Test if a future is still waiting to go (will return True if it returned a result, threw an exception, or was cancelled)\n",
      "* __cancel()__ : Cancel the future and any callbacks.\n",
      "* __exception()__ : Same as result(), but this only returns an exception if any is thrown (returns None if none is thrown)\n",
      "* __add_done_callback()__ : Add a function to call when this future completes\n",
      "* __set_result()__, __set_exception()__ : Complete the future and set the appropiate attribute\n",
      "\n",
      "Also, keep in mind that futures dont get evaluated until the event loop runs, so you can create a Future and register callbacks after creation but *before* calling loop.run_forever()"
     ]
    },
    {
     "cell_type": "markdown",
     "metadata": {
      "slideshow": {
       "slide_type": "slide"
      }
     },
     "source": [
      "Tasks\n",
      "=====\n",
      "\n",
      "Task is a subclass of __Future__ which basically contains a coroutine in a future."
     ]
    },
    {
     "cell_type": "code",
     "collapsed": false,
     "input": [
      "import asyncio\n",
      "\n",
      "@asyncio.coroutine\n",
      "def split(name, word):\n",
      "    for i in range(0, len(word)):\n",
      "        print('Task %s: split number %s: %s' % (name, word, word[i]))\n",
      "        yield from asyncio.sleep(1)\n",
      "    print('Task %s: complete' % name)\n",
      "\n",
      "tasks = [\n",
      "         asyncio.Task(split(\"A\", \"123\")),\n",
      "         asyncio.Task(split(\"B\", \"45\")),\n",
      "         asyncio.Task(split(\"C\", \"6789\")),\n",
      "        ]\n",
      "loop = asyncio.get_event_loop()\n",
      "loop.run_until_complete(asyncio.wait(tasks))\n",
      "loop.close()\n",
      "         \n",
      "        \n",
      "        "
     ],
     "language": "python",
     "metadata": {},
     "outputs": [
      {
       "output_type": "stream",
       "stream": "stdout",
       "text": [
        "Task A: split number 123: 1\n",
        "Task B: split number 45: 4\n",
        "Task C: split number 6789: 6\n",
        "Task A: split number 123: 2"
       ]
      },
      {
       "output_type": "stream",
       "stream": "stdout",
       "text": [
        "\n",
        "Task B: split number 45: 5\n",
        "Task C: split number 6789: 7\n",
        "Task A: split number 123: 3"
       ]
      },
      {
       "output_type": "stream",
       "stream": "stdout",
       "text": [
        "\n",
        "Task B: complete\n",
        "Task C: split number 6789: 8\n",
        "Task A: complete"
       ]
      },
      {
       "output_type": "stream",
       "stream": "stdout",
       "text": [
        "\n",
        "Task C: split number 6789: 9\n",
        "Task C: complete"
       ]
      },
      {
       "output_type": "stream",
       "stream": "stdout",
       "text": [
        "\n"
       ]
      }
     ],
     "prompt_number": 1
    },
    {
     "cell_type": "markdown",
     "metadata": {
      "slideshow": {
       "slide_type": "slide"
      }
     },
     "source": [
      "Tasks Functions\n",
      "=====================\n",
      "\n",
      "Theres a series of useful functions available to us to operate on Tasks / Futures as a group\n",
      "\n",
      "* __gather(*futures)__ : return a future aggregating all the included futures: allows you to group a series of tasks together and operate on the complete results when ready\n",
      "* __wait(futures)__ : Wait for the included futures to be completed. Returns two sets of futures: (done, pending). You can also specify when to return: ALL_COMPLETED (default), FIRST_COMPLETED, or FIRST_EXCEPTION. Additionally, you can specify a timeout, and any futures not yet completed will be returned in the (pending) return value\n",
      "* __wait_for(future)__ : wait for a single future to be completed. This will block until the future is done."
     ]
    },
    {
     "cell_type": "markdown",
     "metadata": {
      "slideshow": {
       "slide_type": "slide"
      }
     },
     "source": [
      "Coroutines and Multithreading\n",
      "=============================\n",
      "\n",
      "The big question here then, is: how does this help us to do better concurrency in Python?\n",
      "\n",
      "I hope its obvious how much cleaner this can make our code now that we have high level support for real concurrency operations."
     ]
    },
    {
     "cell_type": "markdown",
     "metadata": {
      "slideshow": {
       "slide_type": "fragment"
      }
     },
     "source": [
      "By default, all coroutines are run in the same thread. Calling __yield from__ will suspend the running task and let the event loop process the next waiting task.\n",
      "\n",
      "There is a method provided, __loop.call_soon_threadsafe()__, which will allow scheduling of callbacks in other threads"
     ]
    },
    {
     "cell_type": "code",
     "collapsed": false,
     "input": [
      "import asyncio\n",
      "\n",
      "def coro():\n",
      "    print('Coro time')\n",
      "    yield from asyncio.sleep(1)\n",
      "    loop.stop()\n",
      "\n",
      "loop = asyncio.get_event_loop()\n",
      "loop.call_soon_threadsafe(asyncio.async, coro())"
     ],
     "language": "python",
     "metadata": {
      "slideshow": {
       "slide_type": "fragment"
      }
     },
     "outputs": [
      {
       "metadata": {},
       "output_type": "pyout",
       "prompt_number": 1,
       "text": [
        "Handle(<function async at 0x7f180c19e400>, (<generator object coro at 0x7f180c169e58>,))"
       ]
      }
     ],
     "prompt_number": 1
    },
    {
     "cell_type": "markdown",
     "metadata": {
      "slideshow": {
       "slide_type": "fragment"
      }
     },
     "source": [
      "If you do decide to use multiple threads, keep in mind that many of the asyncio objects are NOT threadsafe, and you should not call them directly, but rather use __call_soon_threadsafe()__ to schedule callbacks (for example, cancelling a future)"
     ]
    },
    {
     "cell_type": "markdown",
     "metadata": {
      "slideshow": {
       "slide_type": "slide"
      }
     },
     "source": [
      "Proper Chaining\n",
      "===============\n",
      "\n",
      "When chaining coroutines together, the syntax to guarantee proper order execution can be very particular"
     ]
    },
    {
     "cell_type": "code",
     "collapsed": false,
     "input": [
      "# BAD\n",
      "import asyncio\n",
      "\n",
      "@asyncio.coroutine\n",
      "def open_conn():\n",
      "    yield from asyncio.sleep(2)\n",
      "    print('1 : Open a connection (say, to a web API)')\n",
      "\n",
      "@asyncio.coroutine\n",
      "def write_conn():\n",
      "    yield from asyncio.sleep(1)\n",
      "    print('2 : Write some data')\n",
      "\n",
      "@asyncio.coroutine\n",
      "def close_conn():\n",
      "    print('3 : Close the connection')\n",
      "\n",
      "@asyncio.coroutine\n",
      "def do_stuff():\n",
      "    asyncio.async(open_conn())\n",
      "    asyncio.async(write_conn())\n",
      "    asyncio.async(close_conn())\n",
      "    yield from asyncio.sleep(1)\n",
      "    loop.stop()\n",
      "\n",
      "loop = asyncio.get_event_loop()\n",
      "asyncio.async(do_stuff())\n",
      "loop.run_forever()\n",
      "print('Finished: tasks remaining: %s' % asyncio.Task.all_tasks(loop))\n",
      "loop.close()"
     ],
     "language": "python",
     "metadata": {},
     "outputs": [
      {
       "output_type": "stream",
       "stream": "stdout",
       "text": [
        "3 : Close the connection\n",
        "2 : Write some data"
       ]
      },
      {
       "output_type": "stream",
       "stream": "stdout",
       "text": [
        "\n",
        "Finished: tasks remaining: {Task(<open_conn>)<PENDING>}\n"
       ]
      }
     ],
     "prompt_number": 1
    },
    {
     "cell_type": "markdown",
     "metadata": {
      "slideshow": {
       "slide_type": "slide"
      }
     },
     "source": [
      "Proper Chaining (cont)\n",
      "======================\n",
      "\n",
      "To ensure that coroutines run sequentially rather than whenever the loop decides to schedule them, make sure to use __yield from__ when calling them"
     ]
    },
    {
     "cell_type": "code",
     "collapsed": false,
     "input": [
      "# GOOD\n",
      "import asyncio\n",
      "\n",
      "@asyncio.coroutine\n",
      "def open_conn():\n",
      "    yield from asyncio.sleep(2)\n",
      "    print('1 : Open a connection (say, to a web API)')\n",
      "\n",
      "@asyncio.coroutine\n",
      "def write_conn():\n",
      "    yield from asyncio.sleep(1)\n",
      "    print('2 : Write some data')\n",
      "\n",
      "@asyncio.coroutine\n",
      "def close_conn():\n",
      "    print('3 : Close the connection')\n",
      "\n",
      "@asyncio.coroutine\n",
      "def do_stuff():\n",
      "    yield from asyncio.async(open_conn())  # or yield from open_conn()\n",
      "    yield from asyncio.async(write_conn()) # or yield from write_conn()\n",
      "    yield from asyncio.async(close_conn()) # or yield from close_conn()\n",
      "    yield from asyncio.sleep(1)\n",
      "    loop.stop()\n",
      "\n",
      "loop = asyncio.get_event_loop()\n",
      "asyncio.async(do_stuff())\n",
      "loop.run_forever()\n",
      "print('Finished: tasks remaining: %s' % asyncio.Task.all_tasks(loop))\n",
      "loop.close()"
     ],
     "language": "python",
     "metadata": {},
     "outputs": [
      {
       "output_type": "stream",
       "stream": "stdout",
       "text": [
        "1 : Open a connection (say, to a web API)\n",
        "2 : Write some data"
       ]
      },
      {
       "output_type": "stream",
       "stream": "stdout",
       "text": [
        "\n",
        "3 : Close the connection\n",
        "Finished: tasks remaining: set()"
       ]
      },
      {
       "output_type": "stream",
       "stream": "stdout",
       "text": [
        "\n"
       ]
      }
     ],
     "prompt_number": 1
    },
    {
     "cell_type": "markdown",
     "metadata": {},
     "source": [
      "The End\n",
      "=======\n",
      "\n",
      "Comments, questions, criticisms?\n",
      "\n",
      "Contact me at __jimmy.mccarthy@gmail.com__\n",
      "or on github at https://github.com/jrmccarthy\n",
      "\n",
      "Both slideshows are available as iPython Notebooks at https://github.com/jrmccarthy/pythonmke_talks\n",
      "\n",
      "Thanks for listening!"
     ]
    }
   ],
   "metadata": {}
  }
 ]
}