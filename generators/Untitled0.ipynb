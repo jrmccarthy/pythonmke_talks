{
 "metadata": {
  "name": ""
 },
 "nbformat": 3,
 "nbformat_minor": 0,
 "worksheets": [
  {
   "cells": [
    {
     "cell_type": "markdown",
     "metadata": {
      "slideshow": {
       "slide_type": "slide"
      }
     },
     "source": [
      "Python Iterators and Generators\n",
      "============================\n",
      "\n",
      "<br/><br/><br/><br/><br/><br/><br/><br/>\n",
      "\n",
      "Jimmy McCarthy\n",
      "-------------\n",
      "Developer, Corvisa"
     ]
    },
    {
     "cell_type": "markdown",
     "metadata": {
      "slideshow": {
       "slide_type": "slide"
      }
     },
     "source": [
      "Topics Covered\n",
      "==============\n",
      "<br/>\n",
      "\n",
      "* Iterators\n",
      "* Generators\n",
      "* **yield** keyword\n",
      "* Generator functions\n",
      "* itertools\n",
      "* Nested Generators"
     ]
    },
    {
     "cell_type": "markdown",
     "metadata": {
      "slideshow": {
       "slide_type": "slide"
      }
     },
     "source": [
      "What's an Iterator?\n",
      "================================================"
     ]
    },
    {
     "cell_type": "code",
     "collapsed": false,
     "input": [
      "x = [1, 2, 3, 4, 5]\n",
      "for item in x:\n",
      "    print(item)"
     ],
     "language": "python",
     "metadata": {
      "slideshow": {
       "slide_type": "-"
      }
     },
     "outputs": [
      {
       "output_type": "stream",
       "stream": "stdout",
       "text": [
        "1\n",
        "2\n",
        "3\n",
        "4\n",
        "5\n"
       ]
      }
     ],
     "prompt_number": 1
    },
    {
     "cell_type": "code",
     "collapsed": false,
     "input": [
      "x = 'word'\n",
      "for item in x:\n",
      "    print(item)"
     ],
     "language": "python",
     "metadata": {},
     "outputs": [
      {
       "output_type": "stream",
       "stream": "stdout",
       "text": [
        "w\n",
        "o\n",
        "r\n",
        "d\n"
       ]
      }
     ],
     "prompt_number": 2
    },
    {
     "cell_type": "markdown",
     "metadata": {
      "slideshow": {
       "slide_type": "slide"
      }
     },
     "source": [
      "iter() and next() functions\n",
      "=============="
     ]
    },
    {
     "cell_type": "raw",
     "metadata": {
      "slideshow": {
       "slide_type": "notes"
      }
     },
     "source": [
      "Talk about what iter() does (returns self.__iter__) and now next works (can also call next(x))\n",
      "\n",
      "Cover how StopIteration is automatically handled in \"for\" loops"
     ]
    },
    {
     "cell_type": "code",
     "collapsed": false,
     "input": [
      "x = 'yes'\n",
      "z = iter(x)\n",
      "z"
     ],
     "language": "python",
     "metadata": {},
     "outputs": [
      {
       "metadata": {},
       "output_type": "pyout",
       "prompt_number": 1,
       "text": [
        "<iterator at 0x19459d0>"
       ]
      }
     ],
     "prompt_number": 1
    },
    {
     "cell_type": "code",
     "collapsed": false,
     "input": [
      "z.next()"
     ],
     "language": "python",
     "metadata": {
      "slideshow": {
       "slide_type": "fragment"
      }
     },
     "outputs": [
      {
       "metadata": {},
       "output_type": "pyout",
       "prompt_number": 2,
       "text": [
        "'y'"
       ]
      }
     ],
     "prompt_number": 2
    },
    {
     "cell_type": "code",
     "collapsed": false,
     "input": [
      "z.next()"
     ],
     "language": "python",
     "metadata": {
      "slideshow": {
       "slide_type": "fragment"
      }
     },
     "outputs": [
      {
       "metadata": {},
       "output_type": "pyout",
       "prompt_number": 3,
       "text": [
        "'e'"
       ]
      }
     ],
     "prompt_number": 3
    },
    {
     "cell_type": "code",
     "collapsed": false,
     "input": [
      "z.next()"
     ],
     "language": "python",
     "metadata": {
      "slideshow": {
       "slide_type": "fragment"
      }
     },
     "outputs": [
      {
       "metadata": {},
       "output_type": "pyout",
       "prompt_number": 4,
       "text": [
        "'s'"
       ]
      }
     ],
     "prompt_number": 4
    },
    {
     "cell_type": "code",
     "collapsed": false,
     "input": [
      "z.next()"
     ],
     "language": "python",
     "metadata": {
      "slideshow": {
       "slide_type": "fragment"
      }
     },
     "outputs": [
      {
       "ename": "StopIteration",
       "evalue": "",
       "output_type": "pyerr",
       "traceback": [
        "\u001b[1;31m---------------------------------------------------------------------------\u001b[0m\n\u001b[1;31mStopIteration\u001b[0m                             Traceback (most recent call last)",
        "\u001b[1;32m<ipython-input-5-6c49e4c11a56>\u001b[0m in \u001b[0;36m<module>\u001b[1;34m()\u001b[0m\n\u001b[1;32m----> 1\u001b[1;33m \u001b[0mz\u001b[0m\u001b[1;33m.\u001b[0m\u001b[0mnext\u001b[0m\u001b[1;33m(\u001b[0m\u001b[1;33m)\u001b[0m\u001b[1;33m\u001b[0m\u001b[0m\n\u001b[0m",
        "\u001b[1;31mStopIteration\u001b[0m: "
       ]
      }
     ],
     "prompt_number": 5
    },
    {
     "cell_type": "markdown",
     "metadata": {
      "slideshow": {
       "slide_type": "slide"
      }
     },
     "source": [
      "Defining our own iterator\n",
      "======================"
     ]
    },
    {
     "cell_type": "raw",
     "metadata": {
      "slideshow": {
       "slide_type": "notes"
      }
     },
     "source": [
      "Cover how __iter__ just returns self, because this thing already has a \"next\" method so its already iterable\n",
      "\n",
      "Note how we are automatically raise StopIteration when we try to return an item but are out of them\n",
      "Note how we keep a counter of local state (sorta like a closure) so we know where we are in the iterable\n"
     ]
    },
    {
     "cell_type": "code",
     "collapsed": false,
     "input": [
      "class Colors(object):    \n",
      "    def __init__(self):\n",
      "        self.data = ['red', 'blue', 'green']\n",
      "        self.index = 0\n",
      "    \n",
      "    def __iter__(self):\n",
      "        return self\n",
      "    \n",
      "    def next(self):\n",
      "        if self.index >= len(self.data):\n",
      "            raise StopIteration\n",
      "        data = self.data[self.index]\n",
      "        self.index += 1\n",
      "        return data\n",
      "\n",
      "x = iter(Colors())\n",
      "x        "
     ],
     "language": "python",
     "metadata": {},
     "outputs": [
      {
       "metadata": {},
       "output_type": "pyout",
       "prompt_number": 1,
       "text": [
        "<__main__.Colors at 0x1996850>"
       ]
      }
     ],
     "prompt_number": 1
    },
    {
     "cell_type": "code",
     "collapsed": false,
     "input": [
      "for item in x:\n",
      "    print(item)"
     ],
     "language": "python",
     "metadata": {},
     "outputs": [
      {
       "output_type": "stream",
       "stream": "stdout",
       "text": [
        "red\n",
        "blue\n",
        "green\n"
       ]
      }
     ],
     "prompt_number": 2
    },
    {
     "cell_type": "markdown",
     "metadata": {
      "slideshow": {
       "slide_type": "slide"
      }
     },
     "source": [
      "If iterators are just objects with a \"next\" method...\n",
      "==============================================="
     ]
    },
    {
     "cell_type": "raw",
     "metadata": {
      "slideshow": {
       "slide_type": "notes"
      }
     },
     "source": [
      "Then nothing is stopping us from just doing whatever we want in next. For example, calculating powers, or the Fibonacci sequence, or just returning arbitrary random numbers, or getting data from some outside source, etc.\n",
      "\n",
      "This even lets us implement infinite sequences, as long as we are careful about iterating over them (because we probably dont want to iterate forever over an infinite list)."
     ]
    },
    {
     "cell_type": "code",
     "collapsed": false,
     "input": [
      "class Powerer(object):\n",
      "    '''Iterate through increasing powers of a number'''\n",
      "    def __init__(self, number):\n",
      "        self.number = number\n",
      "        self.power = 0\n",
      "    \n",
      "    def __iter__(self):\n",
      "        return self\n",
      "    \n",
      "    def next(self):\n",
      "        ret = self.number**self.power\n",
      "        self.power += 1\n",
      "        return ret\n",
      "\n",
      "p = Powerer(2)\n",
      "for item in p:\n",
      "    print(item)\n",
      "    if item > 64: # Otherwise this will go on forever\n",
      "        break\n"
     ],
     "language": "python",
     "metadata": {},
     "outputs": [
      {
       "output_type": "stream",
       "stream": "stdout",
       "text": [
        "1\n",
        "2\n",
        "4\n",
        "8\n",
        "16\n",
        "32\n",
        "64\n",
        "128\n"
       ]
      }
     ],
     "prompt_number": 1
    },
    {
     "cell_type": "markdown",
     "metadata": {
      "slideshow": {
       "slide_type": "slide"
      }
     },
     "source": [
      "Generators\n",
      "=========\n",
      "Generators are like regular functions but instead of \"return\", they use \"yield\""
     ]
    },
    {
     "cell_type": "markdown",
     "metadata": {
      "slideshow": {
       "slide_type": "notes"
      }
     },
     "source": [
      "Introduce the \"yield\" keyword, and how its used instead of \"return\": this means that once we return data, we effectively pause execution of this function until the next time it gets called (in this case, by reverse.next())"
     ]
    },
    {
     "cell_type": "code",
     "collapsed": false,
     "input": [
      "def reverse(items):\n",
      "    for index in range(len(items)-1, -1, -1):\n",
      "        yield items[index]\n",
      "\n",
      "for char in reverse(\"python\"):\n",
      "    print(char)"
     ],
     "language": "python",
     "metadata": {},
     "outputs": [
      {
       "output_type": "stream",
       "stream": "stdout",
       "text": [
        "n\n",
        "o\n",
        "h\n",
        "t\n",
        "y\n",
        "p\n"
       ]
      }
     ],
     "prompt_number": 1
    },
    {
     "cell_type": "markdown",
     "metadata": {
      "slideshow": {
       "slide_type": "-"
      }
     },
     "source": [
      "Note how state is maintained between iterations: the \"reverse\" generator maintains its own state internally"
     ]
    },
    {
     "cell_type": "markdown",
     "metadata": {
      "slideshow": {
       "slide_type": "slide"
      }
     },
     "source": [
      "Generator Expressions\n",
      "===================\n",
      "\n",
      "This is similar to comprehensions, except that it returns a generator instead of a list (so, you get lazy evaluation)"
     ]
    },
    {
     "cell_type": "code",
     "collapsed": false,
     "input": [
      "x = [1, 3, 5, 7, 6, 2, 4, 8]\n",
      "\n",
      "a = (i for i in x if i > 4) # Parentheses around this make this a generator\n",
      "b = [i for i in x if i > 4] # Brackets make it a list comprehension\n",
      "\n",
      "print(\"Type(a): %s\" % type(a))\n",
      "print(\"Val(a):  %s\" % list(a))\n",
      "\n",
      "print(\"Type(b): %s\" % type(b))\n",
      "print(\"Val(b):  %s\" % list(b))"
     ],
     "language": "python",
     "metadata": {},
     "outputs": [
      {
       "output_type": "stream",
       "stream": "stdout",
       "text": [
        "Type(a): <type 'generator'>\n",
        "Val(a):  [5, 7, 6, 8]\n",
        "Type(b): <type 'list'>\n",
        "Val(b):  [5, 7, 6, 8]\n"
       ]
      }
     ],
     "prompt_number": 1
    },
    {
     "cell_type": "markdown",
     "metadata": {
      "slideshow": {
       "slide_type": "slide"
      }
     },
     "source": [
      "Generator functions: \n",
      "==================\n",
      "There are a few special functions you can call on generators: **send()**, **throw()**, and **close()**"
     ]
    },
    {
     "cell_type": "code",
     "collapsed": false,
     "input": [
      "def echo(word=None):\n",
      "    print('First Execution')\n",
      "    try:\n",
      "        while True:\n",
      "            try:\n",
      "                word = (yield word)\n",
      "            except Exception, e:\n",
      "                word = e\n",
      "    finally:\n",
      "        print('Finished!')\n",
      "\n",
      "generator = echo('First')\n",
      "print(\"Call next(): %s\" % generator.next())\n",
      "print(\"Call next(): %s\" % generator.next())"
     ],
     "language": "python",
     "metadata": {},
     "outputs": [
      {
       "output_type": "stream",
       "stream": "stdout",
       "text": [
        "First Execution\n",
        "Call next(): First\n",
        "Call next(): None\n"
       ]
      }
     ],
     "prompt_number": 1
    },
    {
     "cell_type": "code",
     "collapsed": false,
     "input": [
      "print(\"Call send(): %s\" % generator.send('Words!'))"
     ],
     "language": "python",
     "metadata": {
      "slideshow": {
       "slide_type": "fragment"
      }
     },
     "outputs": [
      {
       "output_type": "stream",
       "stream": "stdout",
       "text": [
        "Call send(): Words!\n"
       ]
      }
     ],
     "prompt_number": 2
    },
    {
     "cell_type": "markdown",
     "metadata": {
      "slideshow": {
       "slide_type": "fragment"
      }
     },
     "source": [
      "* Notice how the function doesn't get executed until \"next\" is called (NOT when we define \"generator\")\n",
      "* We have to call \"next\" the first time (or \"send\" with None as the argument) because there is no waiting \"yield\" statement for the value"
     ]
    },
    {
     "cell_type": "markdown",
     "metadata": {
      "slideshow": {
       "slide_type": "slide"
      }
     },
     "source": [
      "Generator functions (cont.):\n",
      "========================="
     ]
    },
    {
     "cell_type": "code",
     "collapsed": false,
     "input": [
      "print(\"Call throw(): %s\" % generator.throw(TypeError, \"Oh No\"))"
     ],
     "language": "python",
     "metadata": {},
     "outputs": [
      {
       "output_type": "stream",
       "stream": "stdout",
       "text": [
        "Call throw(): Oh No\n"
       ]
      }
     ],
     "prompt_number": 3
    },
    {
     "cell_type": "code",
     "collapsed": false,
     "input": [
      "print(\"Call close(): %s\" % generator.close())"
     ],
     "language": "python",
     "metadata": {
      "slideshow": {
       "slide_type": "fragment"
      }
     },
     "outputs": [
      {
       "output_type": "stream",
       "stream": "stdout",
       "text": [
        "Finished!\n",
        "Call close(): None\n"
       ]
      }
     ],
     "prompt_number": 4
    },
    {
     "cell_type": "code",
     "collapsed": false,
     "input": [
      "# Lets try calling send after we close our generator:\n",
      "print(\"Call send(): %s\" % generator.send('Words!'))"
     ],
     "language": "python",
     "metadata": {
      "slideshow": {
       "slide_type": "fragment"
      }
     },
     "outputs": [
      {
       "ename": "StopIteration",
       "evalue": "",
       "output_type": "pyerr",
       "traceback": [
        "\u001b[1;31m---------------------------------------------------------------------------\u001b[0m\n\u001b[1;31mStopIteration\u001b[0m                             Traceback (most recent call last)",
        "\u001b[1;32m<ipython-input-5-66a05023849f>\u001b[0m in \u001b[0;36m<module>\u001b[1;34m()\u001b[0m\n\u001b[0;32m      1\u001b[0m \u001b[1;31m# Lets try calling send after we close our generator:\u001b[0m\u001b[1;33m\u001b[0m\u001b[1;33m\u001b[0m\u001b[0m\n\u001b[1;32m----> 2\u001b[1;33m \u001b[1;32mprint\u001b[0m\u001b[1;33m(\u001b[0m\u001b[1;34m\"Call send(): %s\"\u001b[0m \u001b[1;33m%\u001b[0m \u001b[0mgenerator\u001b[0m\u001b[1;33m.\u001b[0m\u001b[0msend\u001b[0m\u001b[1;33m(\u001b[0m\u001b[1;34m'Words!'\u001b[0m\u001b[1;33m)\u001b[0m\u001b[1;33m)\u001b[0m\u001b[1;33m\u001b[0m\u001b[0m\n\u001b[0m",
        "\u001b[1;31mStopIteration\u001b[0m: "
       ]
      }
     ],
     "prompt_number": 5
    },
    {
     "cell_type": "markdown",
     "metadata": {
      "slideshow": {
       "slide_type": "slide"
      }
     },
     "source": [
      "Itertools - chain\n",
      "===============\n",
      "\n",
      "This is just a peek at some useful tools. If you want to learn more, the python documention is quite good"
     ]
    },
    {
     "cell_type": "code",
     "collapsed": false,
     "input": [
      "import itertools\n",
      "\n",
      "# chain: take multiple iterators and make them callable one after another\n",
      "x = [1, 2]\n",
      "y = [5, 6]\n",
      "z = [9, 0]\n",
      "\n",
      "gen1 = (i for i in x)\n",
      "gen2 = (j for j in y)\n",
      "gen3 = (k for k in z)\n",
      "\n",
      "generator = itertools.chain(gen1, gen2, gen3)\n",
      "for item in generator:\n",
      "    print(item)"
     ],
     "language": "python",
     "metadata": {},
     "outputs": [
      {
       "output_type": "stream",
       "stream": "stdout",
       "text": [
        "1\n",
        "2\n",
        "5\n",
        "6\n",
        "9\n",
        "0\n"
       ]
      }
     ],
     "prompt_number": 1
    },
    {
     "cell_type": "markdown",
     "metadata": {
      "slideshow": {
       "slide_type": "slide"
      }
     },
     "source": [
      "Itertools - imap\n",
      "==============\n",
      "\n",
      "This is similar to the **map** function, except it operates on iterables and stops when it reaches the end of the shortest iterable. If we called the following function with **map** instead of **imap**, we would get an error, because **map** evaluates until all options are empty (using **None** for any iterables which have run out of elements)"
     ]
    },
    {
     "cell_type": "code",
     "collapsed": false,
     "input": [
      "# We only expect 3 values to come out of this, as the shortest iterable\n",
      "# has only 3 elements, even if other iterables have more than that\n",
      "# 1^2 = 1; 2^3 = 8; 3^4 = 81\n",
      "generator = itertools.imap(pow, (1, 2, 3, 4), (2, 3, 4))\n",
      "for item in generator:\n",
      "    print(item)"
     ],
     "language": "python",
     "metadata": {},
     "outputs": [
      {
       "output_type": "stream",
       "stream": "stdout",
       "text": [
        "1\n",
        "8\n",
        "81\n"
       ]
      }
     ],
     "prompt_number": 2
    },
    {
     "cell_type": "markdown",
     "metadata": {
      "slideshow": {
       "slide_type": "slide"
      }
     },
     "source": [
      "Nested Iterators\n",
      "==============\n",
      "\n",
      "Since we all try to be pythonic and write short efficient functions, what happens when we want to return the value of a generator from *inside* a second generator?"
     ]
    },
    {
     "cell_type": "code",
     "collapsed": false,
     "input": [
      "def gen1():\n",
      "    for item in range(4):\n",
      "        yield item\n",
      "\n",
      "def gen2():\n",
      "    for item in range(4, 8):\n",
      "        yield item\n",
      "        \n",
      "def gen3():\n",
      "    for i in gen1():\n",
      "        yield i\n",
      "    for j in gen2():\n",
      "        yield j\n",
      "\n",
      "for item in gen3():\n",
      "    print(item)"
     ],
     "language": "python",
     "metadata": {},
     "outputs": [
      {
       "output_type": "stream",
       "stream": "stdout",
       "text": [
        "0\n",
        "1\n",
        "2\n",
        "3\n",
        "4\n",
        "5\n",
        "6\n",
        "7\n"
       ]
      }
     ],
     "prompt_number": 1
    },
    {
     "cell_type": "markdown",
     "metadata": {
      "slideshow": {
       "slide_type": "slide"
      }
     },
     "source": [
      "Nested Iterators\n",
      "==============\n",
      "\n",
      "I don't know about you, but I think that looks gross. We have to iterate through each generator just to get its values, rather than being able to just call it normally. Unfortunately, in Python 2.7, we don't have a choice. However, in part 2 of this talk, I'll cover the new **yield from** expression, which simplifies this situation."
     ]
    }
   ],
   "metadata": {}
  }
 ]
}